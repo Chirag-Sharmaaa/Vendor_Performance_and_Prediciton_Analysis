{
 "cells": [
  {
   "cell_type": "code",
   "execution_count": 1,
   "id": "b7d0c2b3-7d10-45a7-8b0e-7a076dd66b16",
   "metadata": {},
   "outputs": [
    {
     "name": "stdout",
     "output_type": "stream",
     "text": [
      "Defaulting to user installation because normal site-packages is not writeable\n",
      "Requirement already satisfied: sqlalchemy in c:\\programdata\\anaconda3\\lib\\site-packages (2.0.30)\n",
      "Requirement already satisfied: psycopg2 in c:\\users\\chira\\appdata\\roaming\\python\\python312\\site-packages (2.9.10)\n",
      "Requirement already satisfied: typing-extensions>=4.6.0 in c:\\programdata\\anaconda3\\lib\\site-packages (from sqlalchemy) (4.11.0)\n",
      "Requirement already satisfied: greenlet!=0.4.17 in c:\\programdata\\anaconda3\\lib\\site-packages (from sqlalchemy) (3.0.1)\n",
      "Note: you may need to restart the kernel to use updated packages.\n"
     ]
    }
   ],
   "source": [
    "pip install sqlalchemy psycopg2"
   ]
  },
  {
   "cell_type": "code",
   "execution_count": null,
   "id": "b056077f-6d30-4fa6-ab17-2094a9ee18f4",
   "metadata": {},
   "outputs": [
    {
     "name": "stdout",
     "output_type": "stream",
     "text": [
      "Connection established successfully!\n"
     ]
    }
   ],
   "source": [
    "import pandas as pd\n",
    "import os \n",
    "from sqlalchemy import create_engine\n",
    "import logging \n",
    "import time \n",
    "\n",
    "# Set up logging\n",
    "logging.basicConfig(\n",
    "    filename='Logs/ingestion_db.log',\n",
    "    level=logging.DEBUG,\n",
    "    format=\"%(asctime)s-%(levelname)s-%(message)s\",\n",
    "    filemode=\"a\"\n",
    ")\n",
    "\n",
    "# PostgreSQL connection info\n",
    "username = 'postgres'\n",
    "password = '1542'\n",
    "host = 'localhost'\n",
    "port = '5432'\n",
    "database = 'Project'\n",
    "\n",
    "# Create SQLAlchemy engine\n",
    "engine = create_engine(f'postgresql+psycopg2://{username}:{password}@{host}:{port}/{database}')\n",
    "print(\"Connection established successfully!\")\n",
    "\n",
    "\n",
    "def ingest_db(df, table_name, engine, chunk_size=100000):\n",
    "    '''Ingest smaller DataFrames into PostgreSQL'''\n",
    "    df.to_sql(table_name, con=engine, if_exists='replace', index=False, chunksize=chunk_size, method='multi')\n",
    "\n",
    "\n",
    "def load_raw_data():\n",
    "    '''Loads all CSVs and ingests into DB'''\n",
    "    start = time.time()\n",
    "    \n",
    "    for file in os.listdir('data'):\n",
    "        if file.endswith('.csv'):\n",
    "            table_name = file[:-4]  # remove .csv extension\n",
    "            file_path = f'data/{file}'\n",
    "            try:\n",
    "                if 'sales' in file or 'inventory' in file or 'purchases' in file:\n",
    "                    # Create table first with just headers\n",
    "                    pd.read_csv(file_path, nrows=1).to_sql(table_name, con=engine, if_exists='replace', index=False)\n",
    "                    logging.info(f'{table_name}: Table created with headers.')\n",
    "\n",
    "                    # Append in chunks\n",
    "                    chunk_iter = pd.read_csv(file_path, chunksize=100000)\n",
    "                    for i, chunk in enumerate(chunk_iter):\n",
    "                        chunk.to_sql(table_name, con=engine, if_exists='append', index=False, method='multi')\n",
    "                        logging.info(f'{table_name}: Inserted chunk {i} with shape {chunk.shape}')\n",
    "                else:\n",
    "                    df = pd.read_csv(file_path)\n",
    "                    ingest_db(df, table_name, engine)\n",
    "                    logging.info(f'{table_name}: Ingested successfully!')\n",
    "\n",
    "            except Exception as e:\n",
    "                logging.error(f'{table_name}: Error ingesting - {str(e)}')\n",
    "\n",
    "    end = time.time()\n",
    "    total_time = (end - start) / 60\n",
    "    logging.info('Ingestion complete.')\n",
    "    logging.info(f'Total time taken: {total_time:.2f} minutes')\n",
    "\n",
    "\n",
    "# Run the ingestion function\n",
    "if __name__ == '__main__':\n",
    "    load_raw_data()\n"
   ]
  },
  {
   "cell_type": "code",
   "execution_count": null,
   "id": "1f3d2bc2-f56c-44a4-8cf7-fa037493affb",
   "metadata": {},
   "outputs": [],
   "source": []
  }
 ],
 "metadata": {
  "kernelspec": {
   "display_name": "Python 3 (ipykernel)",
   "language": "python",
   "name": "python3"
  },
  "language_info": {
   "codemirror_mode": {
    "name": "ipython",
    "version": 3
   },
   "file_extension": ".py",
   "mimetype": "text/x-python",
   "name": "python",
   "nbconvert_exporter": "python",
   "pygments_lexer": "ipython3",
   "version": "3.12.4"
  }
 },
 "nbformat": 4,
 "nbformat_minor": 5
}
